{
 "cells": [
  {
   "cell_type": "code",
   "execution_count": 27,
   "id": "f11d62a0-62e1-4fe5-8570-259abb1e3f86",
   "metadata": {},
   "outputs": [],
   "source": [
    "import numpy as np\n",
    "import pandas as pd\n",
    "import matplotlib.pyplot as plt\n",
    "\n",
    "from scipy.optimize import minimize\n",
    "\n",
    "from sklearn.preprocessing import StandardScaler, minmax_scale\n",
    "from scipy.stats import normaltest\n",
    "\n",
    "from sklearn.impute import SimpleImputer\n",
    "\n",
    "from workalendar.europe.united_kingdom import UnitedKingdom, UnitedKingdomNorthernIreland\n",
    "import calendar\n",
    "\n",
    "from astral.sun import sun\n",
    "from astral import LocationInfo\n",
    "\n",
    "from datetime import datetime, date\n",
    "\n",
    "import featuretools as ft\n",
    "from featuretools.primitives import Minute, Hour, Day, Month, Year, Weekday\n",
    "\n",
    "from tsfresh.feature_extraction import extract_features\n",
    "from tsfresh.feature_extraction import ComprehensiveFCParameters\n",
    "\n",
    "from sktime.datasets import load_arrow_head\n",
    "# from sktime.utils.data_processing import from_nested_to_2d_array\n",
    "from sktime.transformations.panel.rocket import Rocket\n",
    "# from sktime.transformations.panel.shapelet_transform import BaseTransformer\n",
    "# from sktime.transformations.panel.shapelets import ContractedShapeletTransform"
   ]
  },
  {
   "cell_type": "markdown",
   "id": "e4375502-cad0-4a7a-9c55-39d37df547a0",
   "metadata": {},
   "source": [
    "### Log and Power Transformations in Practice"
   ]
  },
  {
   "cell_type": "code",
   "execution_count": 4,
   "id": "f1c93b28-58e8-4b02-9558-76af1b77e7fe",
   "metadata": {},
   "outputs": [],
   "source": [
    "np.random.seed(0)\n",
    "pts = 10000\n",
    "vals = np.random.lognormal(0, 1.0, pts)"
   ]
  },
  {
   "cell_type": "code",
   "execution_count": 5,
   "id": "b5988914-c6c1-467f-9502-c3f660318eef",
   "metadata": {},
   "outputs": [
    {
     "data": {
      "image/png": "[encoded data removed]",
      "text/plain": [
       "<Figure size 576x432 with 1 Axes>"
      ]
     },
     "metadata": {
      "needs_background": "light"
     },
     "output_type": "display_data"
    }
   ],
   "source": [
    "plt.figure(figsize=(8, 6))\n",
    "plt.hist(vals, bins=30)\n",
    "plt.yscale(\"log\")"
   ]
  },
  {
   "cell_type": "code",
   "execution_count": 6,
   "id": "ff812426-9cf3-42aa-936d-cc3113089658",
   "metadata": {},
   "outputs": [
    {
     "name": "stdout",
     "output_type": "stream",
     "text": [
      "significance: 0.0\n"
     ]
    }
   ],
   "source": [
    "scaler = StandardScaler()\n",
    "vals_ss = scaler.fit_transform(vals.reshape(-1, 1))\n",
    "_, p = normaltest(vals_ss)\n",
    "print(f\"significance: {p[0]:.2}\")"
   ]
  },
  {
   "cell_type": "code",
   "execution_count": 7,
   "id": "1c6fffba-9901-45a2-811f-9645183265e1",
   "metadata": {},
   "outputs": [
    {
     "name": "stdout",
     "output_type": "stream",
     "text": [
      "significance: 0.00\n"
     ]
    }
   ],
   "source": [
    "from sklearn.preprocessing import minmax_scale\n",
    "vals_mm = minmax_scale(vals)\n",
    "_, p = normaltest(vals_mm.squeeze())\n",
    "print(f\"significance: {p:.2f}\")"
   ]
  },
  {
   "cell_type": "code",
   "execution_count": 8,
   "id": "5c762ca9-1a25-4a4b-85ad-a3762eb08469",
   "metadata": {},
   "outputs": [
    {
     "name": "stdout",
     "output_type": "stream",
     "text": [
      "significance: 0.46\n"
     ]
    }
   ],
   "source": [
    "log_transformed = np.log(vals)\n",
    "_, p = normaltest(log_transformed)\n",
    "print(f\"significance: {p:.2f}\")"
   ]
  },
  {
   "cell_type": "markdown",
   "id": "6d4a8492-1c2e-451f-8263-f4d8e480e5ba",
   "metadata": {},
   "source": [
    "### Imputation"
   ]
  },
  {
   "cell_type": "code",
   "execution_count": 9,
   "id": "faafe63d-f4cc-4af1-8fa2-998da6a6cf71",
   "metadata": {},
   "outputs": [
    {
     "name": "stdout",
     "output_type": "stream",
     "text": [
      "[[ 7.   2.   3. ]\n",
      " [ 4.   3.5  6. ]\n",
      " [10.   5.   9. ]]\n"
     ]
    }
   ],
   "source": [
    "data = [\n",
    "    [7, 2, 3], \n",
    "    [4, np.nan, 6], \n",
    "    [10, 5, 9]\n",
    "]\n",
    "\n",
    "imp_mean = SimpleImputer(missing_values=np.nan, strategy='mean')\n",
    "imp_mean.fit(data)\n",
    "\n",
    "print(imp_mean.transform(data))"
   ]
  },
  {
   "cell_type": "markdown",
   "id": "ce4d09dd-39dd-4b25-b0cb-00b538ca1f44",
   "metadata": {},
   "source": [
    "### Holiday Features"
   ]
  },
  {
   "cell_type": "code",
   "execution_count": 10,
   "id": "9998b9f6-5e81-420c-85a8-3253a587a616",
   "metadata": {},
   "outputs": [
    {
     "data": {
      "text/plain": [
       "[(datetime.date(2022, 1, 1), 'New year'),\n",
       " (datetime.date(2022, 1, 3), 'New Year shift'),\n",
       " (datetime.date(2022, 3, 17), \"Saint Patrick's Day\"),\n",
       " (datetime.date(2022, 4, 15), 'Good Friday'),\n",
       " (datetime.date(2022, 4, 17), 'Easter Sunday'),\n",
       " (datetime.date(2022, 4, 18), 'Easter Monday'),\n",
       " (datetime.date(2022, 5, 2), 'Early May Bank Holiday'),\n",
       " (datetime.date(2022, 6, 2), 'Spring Bank Holiday'),\n",
       " (datetime.date(2022, 6, 3), 'Queen’s Platinum Jubilee bank holiday'),\n",
       " (datetime.date(2022, 7, 12), 'Battle of the Boyne'),\n",
       " (datetime.date(2022, 8, 29), 'Late Summer Bank Holiday'),\n",
       " (datetime.date(2022, 12, 25), 'Christmas Day'),\n",
       " (datetime.date(2022, 12, 26), 'Boxing Day'),\n",
       " (datetime.date(2022, 12, 26), 'Christmas Shift'),\n",
       " (datetime.date(2022, 12, 27), 'Boxing Day Shift')]"
      ]
     },
     "execution_count": 10,
     "metadata": {},
     "output_type": "execute_result"
    }
   ],
   "source": [
    "UnitedKingdomNorthernIreland().holidays()"
   ]
  },
  {
   "cell_type": "markdown",
   "id": "322fd59b-91a5-4067-b593-0cad60955445",
   "metadata": {},
   "source": [
    "### Date Annotation"
   ]
  },
  {
   "cell_type": "code",
   "execution_count": 11,
   "id": "923bfeae-0822-4c8a-bce5-3ef51d90b4ab",
   "metadata": {},
   "outputs": [
    {
     "data": {
      "text/plain": [
       "(6, 31)"
      ]
     },
     "execution_count": 11,
     "metadata": {},
     "output_type": "execute_result"
    }
   ],
   "source": [
    "calendar.monthrange(2023, 1)"
   ]
  },
  {
   "cell_type": "markdown",
   "id": "8c550b5f-4a68-4ee0-9396-011b31cdd2ec",
   "metadata": {},
   "source": [
    "### The Sun and Moon"
   ]
  },
  {
   "cell_type": "code",
   "execution_count": 12,
   "id": "951b7a1e-b526-4c3e-a56b-542144a9f04e",
   "metadata": {},
   "outputs": [
    {
     "data": {
      "text/plain": [
       "8.204444444444444"
      ]
     },
     "execution_count": 12,
     "metadata": {},
     "output_type": "execute_result"
    }
   ],
   "source": [
    "CITY = LocationInfo(\"London\", \"England\", \"Europe/London\", 51.5, -0.116)\n",
    "\n",
    "def get_sunrise_dusk(current_date: datetime.date):\n",
    "    s = sun(CITY.observer, date=current_date)\n",
    "    sunrise = s['sunrise']\n",
    "    dusk = s['dusk']\n",
    "    return (sunrise - dusk).seconds / 3600\n",
    "\n",
    "get_sunrise_dusk(datetime.now())"
   ]
  },
  {
   "cell_type": "markdown",
   "id": "054f5744-1b2a-454c-adb7-ba31174a6e78",
   "metadata": {},
   "source": [
    "### Business Days"
   ]
  },
  {
   "cell_type": "code",
   "execution_count": 13,
   "id": "4120942b-ad3c-4b2d-bfc0-6a47f59f1eaf",
   "metadata": {},
   "outputs": [
    {
     "data": {
      "text/plain": [
       "(23, 8)"
      ]
     },
     "execution_count": 13,
     "metadata": {},
     "output_type": "execute_result"
    }
   ],
   "source": [
    "def get_business_days(current_date: datetime.date):\n",
    "    last_day = calendar.monthrange(current_date.year, current_date.month)[1]\n",
    "    rng = pd.date_range(current_date.replace(day=1), periods=last_day, freq='D')\n",
    "    business_days = pd.bdate_range(rng[0], rng[-1])\n",
    "    return len(business_days), last_day - len(business_days)\n",
    "\n",
    "get_business_days(date.today())"
   ]
  },
  {
   "cell_type": "markdown",
   "id": "b1f57bde-d861-4c0e-bc01-cba2d38329bc",
   "metadata": {},
   "source": [
    "### Automated Feature Extraction"
   ]
  },
  {
   "cell_type": "code",
   "execution_count": 14,
   "id": "ddae2a7c-e185-4778-b639-0d9a211201e5",
   "metadata": {},
   "outputs": [],
   "source": [
    "data = pd.DataFrame(\n",
    "    {'Time': ['2014-01-01 01:41:50',\n",
    "              '2014-01-01 02:06:50',\n",
    "              '2014-01-01 02:31:50',\n",
    "              '2014-01-01 02:56:50',\n",
    "              '2014-01-01 03:21:50'],\n",
    "     'Target': [0, 0, 0, 0, 1]}\n",
    ")\n",
    "data['index'] = data.index"
   ]
  },
  {
   "cell_type": "code",
   "execution_count": 15,
   "id": "2b8c713a-b197-42bc-84d1-35dd5f2950e4",
   "metadata": {},
   "outputs": [
    {
     "data": {
      "text/html": [
       "<div>\n",
       "<style scoped>\n",
       "    .dataframe tbody tr th:only-of-type {\n",
       "        vertical-align: middle;\n",
       "    }\n",
       "\n",
       "    .dataframe tbody tr th {\n",
       "        vertical-align: top;\n",
       "    }\n",
       "\n",
       "    .dataframe thead th {\n",
       "        text-align: right;\n",
       "    }\n",
       "</style>\n",
       "<table border=\"1\" class=\"dataframe\">\n",
       "  <thead>\n",
       "    <tr style=\"text-align: right;\">\n",
       "      <th></th>\n",
       "      <th>Time</th>\n",
       "      <th>Target</th>\n",
       "      <th>index</th>\n",
       "    </tr>\n",
       "  </thead>\n",
       "  <tbody>\n",
       "    <tr>\n",
       "      <th>0</th>\n",
       "      <td>2014-01-01 01:41:50</td>\n",
       "      <td>0</td>\n",
       "      <td>0</td>\n",
       "    </tr>\n",
       "    <tr>\n",
       "      <th>1</th>\n",
       "      <td>2014-01-01 02:06:50</td>\n",
       "      <td>0</td>\n",
       "      <td>1</td>\n",
       "    </tr>\n",
       "    <tr>\n",
       "      <th>2</th>\n",
       "      <td>2014-01-01 02:31:50</td>\n",
       "      <td>0</td>\n",
       "      <td>2</td>\n",
       "    </tr>\n",
       "    <tr>\n",
       "      <th>3</th>\n",
       "      <td>2014-01-01 02:56:50</td>\n",
       "      <td>0</td>\n",
       "      <td>3</td>\n",
       "    </tr>\n",
       "    <tr>\n",
       "      <th>4</th>\n",
       "      <td>2014-01-01 03:21:50</td>\n",
       "      <td>1</td>\n",
       "      <td>4</td>\n",
       "    </tr>\n",
       "  </tbody>\n",
       "</table>\n",
       "</div>"
      ],
      "text/plain": [
       "                  Time  Target  index\n",
       "0  2014-01-01 01:41:50       0      0\n",
       "1  2014-01-01 02:06:50       0      1\n",
       "2  2014-01-01 02:31:50       0      2\n",
       "3  2014-01-01 02:56:50       0      3\n",
       "4  2014-01-01 03:21:50       1      4"
      ]
     },
     "execution_count": 15,
     "metadata": {},
     "output_type": "execute_result"
    }
   ],
   "source": [
    "data"
   ]
  },
  {
   "cell_type": "code",
   "execution_count": 16,
   "id": "b50b9baa-fdb5-49d4-95f3-bf9e4803d53e",
   "metadata": {},
   "outputs": [],
   "source": [
    "es = ft.EntitySet('My EntitySet').add_dataframe(\n",
    "    dataframe_name='main_data_table',\n",
    "    index='index',\n",
    "    dataframe=data,\n",
    "    time_index='Time'\n",
    ")"
   ]
  },
  {
   "cell_type": "code",
   "execution_count": 17,
   "id": "b723e626-6288-4d75-a350-c541f1256039",
   "metadata": {},
   "outputs": [
    {
     "name": "stderr",
     "output_type": "stream",
     "text": [
      "C:\\Users\\stakk\\miniconda3\\envs\\timeseries\\lib\\site-packages\\featuretools\\synthesis\\deep_feature_synthesis.py:161: UserWarning: Only one dataframe in entityset, changing max_depth to 1 since deeper features cannot be created\n",
      "  warnings.warn(\n"
     ]
    }
   ],
   "source": [
    "fm, features = ft.dfs(\n",
    "    entityset=es, \n",
    "    target_dataframe_name='main_data_table', \n",
    "    trans_primitives=[Minute, Hour, Day, Month, Year, Weekday]\n",
    ")"
   ]
  },
  {
   "cell_type": "markdown",
   "id": "cb5afb46-5274-4fff-991a-1126993c7541",
   "metadata": {},
   "source": [
    "### Automated Feature Extraction (tsfresh)"
   ]
  },
  {
   "cell_type": "code",
   "execution_count": 18,
   "id": "5d110109-07fa-4a37-aac4-3e7f78a3c953",
   "metadata": {},
   "outputs": [],
   "source": [
    "# https://tsfresh.readthedocs.io/en/latest/api/tsfresh.feature_extraction.html\n",
    "settings = ComprehensiveFCParameters()\n",
    "# extract_features(data, column_id='Time', default_fc_parameters=settings)"
   ]
  },
  {
   "cell_type": "markdown",
   "id": "a7590b33-3f3e-4973-9d57-fbe843bf2c61",
   "metadata": {},
   "source": [
    "### ROCKET"
   ]
  },
  {
   "cell_type": "code",
   "execution_count": 19,
   "id": "e81eed92-d4d5-4ccd-8d90-e1bf025f1807",
   "metadata": {},
   "outputs": [
    {
     "data": {
      "text/html": [
       "<div>\n",
       "<style scoped>\n",
       "    .dataframe tbody tr th:only-of-type {\n",
       "        vertical-align: middle;\n",
       "    }\n",
       "\n",
       "    .dataframe tbody tr th {\n",
       "        vertical-align: top;\n",
       "    }\n",
       "\n",
       "    .dataframe thead th {\n",
       "        text-align: right;\n",
       "    }\n",
       "</style>\n",
       "<table border=\"1\" class=\"dataframe\">\n",
       "  <thead>\n",
       "    <tr style=\"text-align: right;\">\n",
       "      <th></th>\n",
       "      <th>dim_0</th>\n",
       "    </tr>\n",
       "  </thead>\n",
       "  <tbody>\n",
       "    <tr>\n",
       "      <th>0</th>\n",
       "      <td>0     -1.963009\n",
       "1     -1.957825\n",
       "2     -1.95614...</td>\n",
       "    </tr>\n",
       "    <tr>\n",
       "      <th>1</th>\n",
       "      <td>0     -1.774571\n",
       "1     -1.774036\n",
       "2     -1.77658...</td>\n",
       "    </tr>\n",
       "    <tr>\n",
       "      <th>2</th>\n",
       "      <td>0     -1.866021\n",
       "1     -1.841991\n",
       "2     -1.83502...</td>\n",
       "    </tr>\n",
       "    <tr>\n",
       "      <th>3</th>\n",
       "      <td>0     -2.073758\n",
       "1     -2.073301\n",
       "2     -2.04460...</td>\n",
       "    </tr>\n",
       "    <tr>\n",
       "      <th>4</th>\n",
       "      <td>0     -1.746255\n",
       "1     -1.741263\n",
       "2     -1.72274...</td>\n",
       "    </tr>\n",
       "  </tbody>\n",
       "</table>\n",
       "</div>"
      ],
      "text/plain": [
       "                                               dim_0\n",
       "0  0     -1.963009\n",
       "1     -1.957825\n",
       "2     -1.95614...\n",
       "1  0     -1.774571\n",
       "1     -1.774036\n",
       "2     -1.77658...\n",
       "2  0     -1.866021\n",
       "1     -1.841991\n",
       "2     -1.83502...\n",
       "3  0     -2.073758\n",
       "1     -2.073301\n",
       "2     -2.04460...\n",
       "4  0     -1.746255\n",
       "1     -1.741263\n",
       "2     -1.72274..."
      ]
     },
     "execution_count": 19,
     "metadata": {},
     "output_type": "execute_result"
    }
   ],
   "source": [
    "X_train, y_train = load_arrow_head(split=\"train\", return_X_y=True)\n",
    "X_train.head()"
   ]
  },
  {
   "cell_type": "code",
   "execution_count": 20,
   "id": "d87e2908-69ed-481c-b76a-471f5849e74c",
   "metadata": {},
   "outputs": [
    {
     "data": {
      "text/plain": [
       "36"
      ]
     },
     "execution_count": 20,
     "metadata": {},
     "output_type": "execute_result"
    }
   ],
   "source": [
    "X_train.size"
   ]
  },
  {
   "cell_type": "code",
   "execution_count": 21,
   "id": "386871b7-c810-423c-a52f-30172ca618eb",
   "metadata": {},
   "outputs": [],
   "source": [
    "rocket = Rocket(num_kernels=1000)\n",
    "rocket.fit(X_train)\n",
    "X_train_transform = rocket.transform(X_train)"
   ]
  },
  {
   "cell_type": "code",
   "execution_count": null,
   "id": "77d11524-fb6a-44ec-a787-88c2db778206",
   "metadata": {},
   "outputs": [],
   "source": []
  },
  {
   "cell_type": "code",
   "execution_count": null,
   "id": "0faa38b2-2dc0-4d05-b0bd-faf869904cc6",
   "metadata": {},
   "outputs": [],
   "source": []
  },
  {
   "cell_type": "code",
   "execution_count": null,
   "id": "c99734a3-7f13-42b7-99fa-24d2bc5f7040",
   "metadata": {},
   "outputs": [],
   "source": []
  }
 ],
 "metadata": {
  "kernelspec": {
   "display_name": "timeseries",
   "language": "python",
   "name": "timeseries"
  },
  "language_info": {
   "codemirror_mode": {
    "name": "ipython",
    "version": 3
   },
   "file_extension": ".py",
   "mimetype": "text/x-python",
   "name": "python",
   "nbconvert_exporter": "python",
   "pygments_lexer": "ipython3",
   "version": "3.9.13"
  }
 },
 "nbformat": 4,
 "nbformat_minor": 5
}
